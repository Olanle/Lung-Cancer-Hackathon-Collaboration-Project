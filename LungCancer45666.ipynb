{
  "nbformat": 4,
  "nbformat_minor": 0,
  "metadata": {
    "colab": {
      "provenance": []
    },
    "kernelspec": {
      "name": "python3",
      "display_name": "Python 3"
    },
    "language_info": {
      "name": "python"
    }
  },
  "cells": [
    {
      "cell_type": "code",
      "source": [
        "!pip install opendatasets\n",
        "\n",
        "import tensorflow as tf\n",
        "from tensorflow import keras\n",
        "from tensorflow.keras import layers\n",
        "import numpy as np\n",
        "import cv2\n",
        "import os\n",
        "from sklearn.model_selection import train_test_split\n",
        "from sklearn.metrics import classification_report, confusion_matrix"
      ],
      "metadata": {
        "colab": {
          "base_uri": "https://localhost:8080/"
        },
        "id": "I99xfQLFWAc7",
        "outputId": "3e4da6fd-bd4f-4d91-e71e-f5b049f84161"
      },
      "execution_count": null,
      "outputs": [
        {
          "output_type": "stream",
          "name": "stdout",
          "text": [
            "Collecting opendatasets\n",
            "  Downloading opendatasets-0.1.22-py3-none-any.whl.metadata (9.2 kB)\n",
            "Requirement already satisfied: tqdm in /usr/local/lib/python3.11/dist-packages (from opendatasets) (4.67.1)\n",
            "Requirement already satisfied: kaggle in /usr/local/lib/python3.11/dist-packages (from opendatasets) (1.7.4.2)\n",
            "Requirement already satisfied: click in /usr/local/lib/python3.11/dist-packages (from opendatasets) (8.1.8)\n",
            "Requirement already satisfied: bleach in /usr/local/lib/python3.11/dist-packages (from kaggle->opendatasets) (6.2.0)\n",
            "Requirement already satisfied: certifi>=14.05.14 in /usr/local/lib/python3.11/dist-packages (from kaggle->opendatasets) (2025.1.31)\n",
            "Requirement already satisfied: charset-normalizer in /usr/local/lib/python3.11/dist-packages (from kaggle->opendatasets) (3.4.1)\n",
            "Requirement already satisfied: idna in /usr/local/lib/python3.11/dist-packages (from kaggle->opendatasets) (3.10)\n",
            "Requirement already satisfied: protobuf in /usr/local/lib/python3.11/dist-packages (from kaggle->opendatasets) (5.29.4)\n",
            "Requirement already satisfied: python-dateutil>=2.5.3 in /usr/local/lib/python3.11/dist-packages (from kaggle->opendatasets) (2.8.2)\n",
            "Requirement already satisfied: python-slugify in /usr/local/lib/python3.11/dist-packages (from kaggle->opendatasets) (8.0.4)\n",
            "Requirement already satisfied: requests in /usr/local/lib/python3.11/dist-packages (from kaggle->opendatasets) (2.32.3)\n",
            "Requirement already satisfied: setuptools>=21.0.0 in /usr/local/lib/python3.11/dist-packages (from kaggle->opendatasets) (75.2.0)\n",
            "Requirement already satisfied: six>=1.10 in /usr/local/lib/python3.11/dist-packages (from kaggle->opendatasets) (1.17.0)\n",
            "Requirement already satisfied: text-unidecode in /usr/local/lib/python3.11/dist-packages (from kaggle->opendatasets) (1.3)\n",
            "Requirement already satisfied: urllib3>=1.15.1 in /usr/local/lib/python3.11/dist-packages (from kaggle->opendatasets) (2.3.0)\n",
            "Requirement already satisfied: webencodings in /usr/local/lib/python3.11/dist-packages (from kaggle->opendatasets) (0.5.1)\n",
            "Downloading opendatasets-0.1.22-py3-none-any.whl (15 kB)\n",
            "Installing collected packages: opendatasets\n",
            "Successfully installed opendatasets-0.1.22\n"
          ]
        }
      ]
    },
    {
      "cell_type": "code",
      "source": [
        "import opendatasets as od\n",
        "#5acab72028e81c5fbbddde9eb6202108\n",
        "od.download(\"https://www.kaggle.com/datasets/xiaopengzhang12/lung-cancer-mri-images\")"
      ],
      "metadata": {
        "id": "ylclEKz8WEUQ",
        "colab": {
          "base_uri": "https://localhost:8080/"
        },
        "outputId": "b0e4fbf7-0265-45e6-d3c9-2daaf4217f45"
      },
      "execution_count": null,
      "outputs": [
        {
          "output_type": "stream",
          "name": "stdout",
          "text": [
            "Please provide your Kaggle credentials to download this dataset. Learn more: http://bit.ly/kaggle-creds\n",
            "Your Kaggle username: flourisholaiya\n",
            "Your Kaggle Key: ··········\n",
            "Dataset URL: https://www.kaggle.com/datasets/xiaopengzhang12/lung-cancer-mri-images\n"
          ]
        }
      ]
    },
    {
      "cell_type": "code",
      "source": [
        "# Data paths (adjust if necessary)\n",
        "data_dir = \"//content/lung-cancer-mri-images/lung_cancer_MRI_dataset/train\"\n",
        "data_dir2 = \"//content/lung-cancer-mri-images/lung_cancer_MRI_dataset/validate\"\n",
        "categories = [\"cancer\", \"no_cancer\"] #lung_aca\", \"lung_n\", \"lung_scc\"]\n",
        "\n",
        "# Image preprocessing parameters\n",
        "img_size = (128, 128)  # Resize images to a consistent size\n",
        "batch_size = 32\n",
        "\n",
        "# Image data generation\n",
        "def preprocess_image(image_path):\n",
        "    image = cv2.imread(image_path)\n",
        "    image = cv2.resize(image, img_size)\n",
        "    image = image / 255.0  # Normalize pixel values\n",
        "    return image"
      ],
      "metadata": {
        "id": "uj1UiJLfWEvd"
      },
      "execution_count": null,
      "outputs": []
    },
    {
      "cell_type": "code",
      "source": [
        "image_data = []\n",
        "labels = []\n",
        "for category_index, category in enumerate(categories):\n",
        "    path = os.path.join(data_dir, category)\n",
        "    for img in os.listdir(path):\n",
        "        try:\n",
        "            img_array = preprocess_image(os.path.join(path, img))\n",
        "            image_data.append(img_array)\n",
        "            labels.append(category_index)\n",
        "        except Exception as e:\n",
        "            print(f\"Error processing image: {img}, Error: {e}\")\n",
        "\n",
        "# Convert to numpy arrays\n",
        "image_data = np.array(image_data)\n",
        "labels = np.array(labels)"
      ],
      "metadata": {
        "id": "ideEMh4vWFEX"
      },
      "execution_count": null,
      "outputs": []
    },
    {
      "cell_type": "code",
      "source": [
        "image_data = []\n",
        "labels = []\n",
        "for category_index, category in enumerate(categories):\n",
        "    # Process images from both directories in one loop\n",
        "    for data_dir in [data_dir, data_dir2]:  # Iterate through both directories\n",
        "        path = os.path.join(data_dir, category)\n",
        "        for img in os.listdir(path):\n",
        "            try:\n",
        "                img_array = preprocess_image(os.path.join(path, img))\n",
        "                image_data.append(img_array)\n",
        "                labels.append(category_index)\n",
        "            except Exception as e:\n",
        "                print(f\"Error processing image: {img}, Error: {e}\")\n",
        "\n",
        "# Convert to numpy arrays\n",
        "image_data = np.array(image_data)\n",
        "labels = np.array(labels)"
      ],
      "metadata": {
        "id": "jtxJuCgC1q7g"
      },
      "execution_count": null,
      "outputs": []
    },
    {
      "cell_type": "code",
      "source": [
        "# One-hot encode labels\n",
        "labels = tf.keras.utils.to_categorical(labels)\n",
        "\n",
        "# Split data into training and testing sets\n",
        "X_train, X_test, y_train, y_test = train_test_split(image_data, labels, test_size=0.2, random_state=42)"
      ],
      "metadata": {
        "id": "1ZpxFJEUWFZz"
      },
      "execution_count": null,
      "outputs": []
    },
    {
      "cell_type": "code",
      "source": [
        "# Build the CNN model\n",
        "model = keras.Sequential([\n",
        "    layers.Conv2D(32, (3, 3), activation='relu', input_shape=(img_size[0], img_size[1], 3)),\n",
        "    layers.MaxPooling2D((2, 2)),\n",
        "    layers.Conv2D(64, (3, 3), activation='relu'),\n",
        "    layers.MaxPooling2D((2, 2)),\n",
        "    layers.Conv2D(128, (3, 3), activation='relu'),\n",
        "    layers.MaxPooling2D((2, 2)),\n",
        "    layers.Flatten(),\n",
        "    layers.Dense(128, activation='relu'),\n",
        "    layers.Dropout(0.5), # Added dropout for regularization\n",
        "    layers.Dense(2, activation='sigmoid')\n",
        "])\n",
        "\n",
        "# Compile the model\n",
        "model.compile(optimizer='adam',\n",
        "              loss='binary_crossentropy',\n",
        "              metrics=['accuracy'])"
      ],
      "metadata": {
        "id": "JB5bmZWjWFr2",
        "colab": {
          "base_uri": "https://localhost:8080/"
        },
        "outputId": "a3d88866-a4dc-4aaa-bcd7-deddf31f371d"
      },
      "execution_count": null,
      "outputs": [
        {
          "output_type": "stream",
          "name": "stderr",
          "text": [
            "/usr/local/lib/python3.11/dist-packages/keras/src/layers/convolutional/base_conv.py:107: UserWarning: Do not pass an `input_shape`/`input_dim` argument to a layer. When using Sequential models, prefer using an `Input(shape)` object as the first layer in the model instead.\n",
            "  super().__init__(activity_regularizer=activity_regularizer, **kwargs)\n"
          ]
        }
      ]
    },
    {
      "cell_type": "code",
      "execution_count": null,
      "metadata": {
        "id": "WX3bizsLVu9r",
        "colab": {
          "base_uri": "https://localhost:8080/"
        },
        "outputId": "2c35ada1-6b31-4cee-f67b-0798efa1a713"
      },
      "outputs": [
        {
          "output_type": "stream",
          "name": "stdout",
          "text": [
            "Epoch 1/10\n",
            "\u001b[1m65/65\u001b[0m \u001b[32m━━━━━━━━━━━━━━━━━━━━\u001b[0m\u001b[37m\u001b[0m \u001b[1m62s\u001b[0m 927ms/step - accuracy: 0.6870 - loss: 0.6315 - val_accuracy: 0.7467 - val_loss: 0.4406\n",
            "Epoch 2/10\n",
            "\u001b[1m65/65\u001b[0m \u001b[32m━━━━━━━━━━━━━━━━━━━━\u001b[0m\u001b[37m\u001b[0m \u001b[1m82s\u001b[0m 935ms/step - accuracy: 0.7700 - loss: 0.4326 - val_accuracy: 0.7642 - val_loss: 0.3674\n",
            "Epoch 3/10\n",
            "\u001b[1m65/65\u001b[0m \u001b[32m━━━━━━━━━━━━━━━━━━━━\u001b[0m\u001b[37m\u001b[0m \u001b[1m85s\u001b[0m 985ms/step - accuracy: 0.7988 - loss: 0.3459 - val_accuracy: 0.8210 - val_loss: 0.3489\n",
            "Epoch 4/10\n",
            "\u001b[1m65/65\u001b[0m \u001b[32m━━━━━━━━━━━━━━━━━━━━\u001b[0m\u001b[37m\u001b[0m \u001b[1m77s\u001b[0m 912ms/step - accuracy: 0.8176 - loss: 0.3351 - val_accuracy: 0.7904 - val_loss: 0.3484\n",
            "Epoch 5/10\n",
            "\u001b[1m65/65\u001b[0m \u001b[32m━━━━━━━━━━━━━━━━━━━━\u001b[0m\u001b[37m\u001b[0m \u001b[1m82s\u001b[0m 912ms/step - accuracy: 0.8291 - loss: 0.2998 - val_accuracy: 0.8166 - val_loss: 0.3191\n",
            "Epoch 6/10\n",
            "\u001b[1m65/65\u001b[0m \u001b[32m━━━━━━━━━━━━━━━━━━━━\u001b[0m\u001b[37m\u001b[0m \u001b[1m57s\u001b[0m 885ms/step - accuracy: 0.8487 - loss: 0.2918 - val_accuracy: 0.8472 - val_loss: 0.3194\n",
            "Epoch 7/10\n",
            "\u001b[1m65/65\u001b[0m \u001b[32m━━━━━━━━━━━━━━━━━━━━\u001b[0m\u001b[37m\u001b[0m \u001b[1m85s\u001b[0m 925ms/step - accuracy: 0.8673 - loss: 0.2615 - val_accuracy: 0.8384 - val_loss: 0.3315\n",
            "Epoch 8/10\n",
            "\u001b[1m65/65\u001b[0m \u001b[32m━━━━━━━━━━━━━━━━━━━━\u001b[0m\u001b[37m\u001b[0m \u001b[1m81s\u001b[0m 906ms/step - accuracy: 0.8747 - loss: 0.2295 - val_accuracy: 0.8297 - val_loss: 0.3494\n",
            "Epoch 9/10\n",
            "\u001b[1m65/65\u001b[0m \u001b[32m━━━━━━━━━━━━━━━━━━━━\u001b[0m\u001b[37m\u001b[0m \u001b[1m82s\u001b[0m 906ms/step - accuracy: 0.8749 - loss: 0.2514 - val_accuracy: 0.8603 - val_loss: 0.3231\n",
            "Epoch 10/10\n",
            "\u001b[1m65/65\u001b[0m \u001b[32m━━━━━━━━━━━━━━━━━━━━\u001b[0m\u001b[37m\u001b[0m \u001b[1m82s\u001b[0m 915ms/step - accuracy: 0.9048 - loss: 0.1935 - val_accuracy: 0.8559 - val_loss: 0.3037\n"
          ]
        },
        {
          "output_type": "execute_result",
          "data": {
            "text/plain": [
              "<keras.src.callbacks.history.History at 0x7bccd106c310>"
            ]
          },
          "metadata": {},
          "execution_count": 7
        }
      ],
      "source": [
        "# Train the model\n",
        "model.fit(X_train, y_train, epochs=10, batch_size=batch_size, validation_split=0.1) # Reduced epochs and added validation_split"
      ]
    },
    {
      "cell_type": "code",
      "source": [
        "# Evaluate the model\n",
        "loss, accuracy = model.evaluate(X_test, y_test)\n",
        "print(f\"Test Loss: {loss:.4f}\")\n",
        "print(f\"Test Accuracy: {accuracy:.4f}\")"
      ],
      "metadata": {
        "colab": {
          "base_uri": "https://localhost:8080/"
        },
        "id": "S9KaJmaylwhk",
        "outputId": "727ac1df-48d6-4efc-8484-6e6ec1b8381a"
      },
      "execution_count": null,
      "outputs": [
        {
          "output_type": "stream",
          "name": "stdout",
          "text": [
            "\u001b[1m18/18\u001b[0m \u001b[32m━━━━━━━━━━━━━━━━━━━━\u001b[0m\u001b[37m\u001b[0m \u001b[1m5s\u001b[0m 266ms/step - accuracy: 0.8539 - loss: 0.2937\n",
            "Test Loss: 0.2935\n",
            "Test Accuracy: 0.8584\n"
          ]
        }
      ]
    },
    {
      "cell_type": "code",
      "source": [
        "# Make predictions\n",
        "y_pred = model.predict(X_test)\n",
        "y_pred_classes = np.argmax(y_pred, axis=1)\n",
        "y_true_classes = np.argmax(y_test, axis=1)"
      ],
      "metadata": {
        "colab": {
          "base_uri": "https://localhost:8080/"
        },
        "id": "A8_cdyxglxNY",
        "outputId": "e5aef670-fd60-40e8-f588-363b7765221a"
      },
      "execution_count": null,
      "outputs": [
        {
          "output_type": "stream",
          "name": "stdout",
          "text": [
            "\u001b[1m18/18\u001b[0m \u001b[32m━━━━━━━━━━━━━━━━━━━━\u001b[0m\u001b[37m\u001b[0m \u001b[1m6s\u001b[0m 355ms/step\n"
          ]
        }
      ]
    },
    {
      "cell_type": "code",
      "source": [
        "# Classification report and confusion matrix\n",
        "print(classification_report(y_true_classes, y_pred_classes))\n",
        "print(confusion_matrix(y_true_classes, y_pred_classes))"
      ],
      "metadata": {
        "colab": {
          "base_uri": "https://localhost:8080/"
        },
        "id": "lX9QKsvPl3VU",
        "outputId": "206e94bf-4b0e-4c94-f976-9150fc6ccb5f"
      },
      "execution_count": null,
      "outputs": [
        {
          "output_type": "stream",
          "name": "stdout",
          "text": [
            "              precision    recall  f1-score   support\n",
            "\n",
            "           0       0.95      0.83      0.88       372\n",
            "           1       0.74      0.92      0.82       200\n",
            "\n",
            "    accuracy                           0.86       572\n",
            "   macro avg       0.84      0.87      0.85       572\n",
            "weighted avg       0.88      0.86      0.86       572\n",
            "\n",
            "[[308  64]\n",
            " [ 17 183]]\n"
          ]
        }
      ]
    },
    {
      "cell_type": "code",
      "source": [
        "model.save(\"lung_cancer_model.keras\")"
      ],
      "metadata": {
        "id": "7UMEySGll34V"
      },
      "execution_count": null,
      "outputs": []
    }
  ]
}